{
 "cells": [
  {
   "cell_type": "code",
   "execution_count": 8,
   "id": "17d70a17-31c9-42d7-a320-ff96cc1d7147",
   "metadata": {},
   "outputs": [
    {
     "name": "stdout",
     "output_type": "stream",
     "text": [
      "<class 'pandas.core.frame.DataFrame'>\n",
      "RangeIndex: 354 entries, 0 to 353\n",
      "Data columns (total 1 columns):\n",
      " #   Column                                                                                                                                                                                             Non-Null Count  Dtype \n",
      "---  ------                                                                                                                                                                                             --------------  ----- \n",
      " 0   08/04/23 07.31 - Pesan dan panggilan dienkripsi secara end-to-end. Tidak seorang pun di luar chat ini, termasuk WhatsApp, yang dapat membaca atau mendengarkannya. Ketuk untuk info selengkapnya.  310 non-null    object\n",
      "dtypes: object(1)\n",
      "memory usage: 2.9+ KB\n"
     ]
    },
    {
     "data": {
      "text/plain": [
       "(  08/04/23 07.31 - Pesan dan panggilan dienkripsi secara end-to-end. Tidak seorang pun di luar chat ini, termasuk WhatsApp, yang dapat membaca atau mendengarkannya. Ketuk untuk info selengkapnya.\n",
       " 0  24/04/23 08.57 - ‎+62 852-6441-5694 bergabung ...                                                                                                                                               \n",
       " 1  02/05/23 20.18 - +62 822-3849-2861: <Media tid...                                                                                                                                               \n",
       " 2  02/05/23 20.18 - +62 822-3849-2861: [COMFEASTS...                                                                                                                                               \n",
       " 3                                                NaN                                                                                                                                               \n",
       " 4              Communication Feast proudly present!✨                                                                                                                                               ,\n",
       " None)"
      ]
     },
     "execution_count": 8,
     "metadata": {},
     "output_type": "execute_result"
    }
   ],
   "source": [
    "import pandas as pd\n",
    "\n",
    "# Load the CSV file to examine its contents\n",
    "file_path = 'chatgrup.csv'\n",
    "data = pd.read_csv(file_path)\n",
    "\n",
    "# Display the first few rows and basic information about the dataset\n",
    "data.head(), data.info()"
   ]
  },
  {
   "cell_type": "code",
   "execution_count": 9,
   "id": "fd6883ad-a116-41a3-b384-23916f77b3e3",
   "metadata": {},
   "outputs": [
    {
     "data": {
      "text/html": [
       "<div>\n",
       "<style scoped>\n",
       "    .dataframe tbody tr th:only-of-type {\n",
       "        vertical-align: middle;\n",
       "    }\n",
       "\n",
       "    .dataframe tbody tr th {\n",
       "        vertical-align: top;\n",
       "    }\n",
       "\n",
       "    .dataframe thead th {\n",
       "        text-align: right;\n",
       "    }\n",
       "</style>\n",
       "<table border=\"1\" class=\"dataframe\">\n",
       "  <thead>\n",
       "    <tr style=\"text-align: right;\">\n",
       "      <th></th>\n",
       "      <th>Timestamp</th>\n",
       "      <th>Sender</th>\n",
       "      <th>Message</th>\n",
       "    </tr>\n",
       "  </thead>\n",
       "  <tbody>\n",
       "    <tr>\n",
       "      <th>0</th>\n",
       "      <td>02/05/23 20.18</td>\n",
       "      <td>+62 822-3849-2861</td>\n",
       "      <td>&lt;Media tidak disertakan&gt;</td>\n",
       "    </tr>\n",
       "    <tr>\n",
       "      <th>1</th>\n",
       "      <td>02/05/23 20.18</td>\n",
       "      <td>+62 822-3849-2861</td>\n",
       "      <td>[COMFEASTSPORT CHAMPIONSHIP]</td>\n",
       "    </tr>\n",
       "    <tr>\n",
       "      <th>2</th>\n",
       "      <td>15/06/23 18.14</td>\n",
       "      <td>+62 819-3531-1585</td>\n",
       "      <td>Inpo mabar lurr</td>\n",
       "    </tr>\n",
       "    <tr>\n",
       "      <th>3</th>\n",
       "      <td>15/06/23 18.59</td>\n",
       "      <td>+62 813-9098-7833</td>\n",
       "      <td>Ready 24 jam</td>\n",
       "    </tr>\n",
       "    <tr>\n",
       "      <th>4</th>\n",
       "      <td>26/06/23 01.35</td>\n",
       "      <td>+62 895-3272-00111</td>\n",
       "      <td>ada on pubg?</td>\n",
       "    </tr>\n",
       "  </tbody>\n",
       "</table>\n",
       "</div>"
      ],
      "text/plain": [
       "        Timestamp              Sender                       Message\n",
       "0  02/05/23 20.18   +62 822-3849-2861      <Media tidak disertakan>\n",
       "1  02/05/23 20.18   +62 822-3849-2861  [COMFEASTSPORT CHAMPIONSHIP]\n",
       "2  15/06/23 18.14   +62 819-3531-1585               Inpo mabar lurr\n",
       "3  15/06/23 18.59   +62 813-9098-7833                  Ready 24 jam\n",
       "4  26/06/23 01.35  +62 895-3272-00111                  ada on pubg?"
      ]
     },
     "execution_count": 9,
     "metadata": {},
     "output_type": "execute_result"
    }
   ],
   "source": [
    "import re\n",
    "\n",
    "# Define a function to parse and clean the data\n",
    "def parse_message(row):\n",
    "    # Pattern to identify timestamp, sender, and message\n",
    "    pattern = r\"(\\d{2}/\\d{2}/\\d{2} \\d{2}\\.\\d{2}) - (.+?): (.+)\"\n",
    "    match = re.match(pattern, row)\n",
    "    if match:\n",
    "        return match.groups()\n",
    "    return None, None, None\n",
    "\n",
    "# Apply parsing to the dataset\n",
    "data_cleaned = data.iloc[:, 0].dropna().apply(parse_message)\n",
    "parsed_data = pd.DataFrame(data_cleaned.tolist(), columns=[\"Timestamp\", \"Sender\", \"Message\"])\n",
    "\n",
    "# Drop rows where parsing failed (empty rows)\n",
    "parsed_data = parsed_data.dropna().reset_index(drop=True)\n",
    "\n",
    "# Display the first few rows of the cleaned data\n",
    "parsed_data.head()\n"
   ]
  },
  {
   "cell_type": "code",
   "execution_count": 10,
   "id": "15b2d06e-eb97-46ef-bd9f-498f99d62ded",
   "metadata": {},
   "outputs": [
    {
     "data": {
      "text/plain": [
       "{3: [['pesan', 'dihapus', 'ini'],\n",
       "  ['yang', 'kalian', 'kami'],\n",
       "  ['disertakan', 'media', 'tidak']],\n",
       " 4: [['pesan', 'dihapus', 'ini'],\n",
       "  ['kami', 'akan', 'kalian'],\n",
       "  ['disertakan', 'media', 'tidak'],\n",
       "  ['dana', 'sekarang', 'kaget']],\n",
       " 5: [['pesan', 'dihapus', 'ini'],\n",
       "  ['kami', 'akan', 'kalian'],\n",
       "  ['𝗖𝗹𝗮𝗶𝗺', '𝗕𝘂𝗿𝘂𝗮𝗻', 'beasiswa'],\n",
       "  ['dana', 'sekarang', 'kaget'],\n",
       "  ['disertakan', 'media', 'tidak']]}"
      ]
     },
     "execution_count": 10,
     "metadata": {},
     "output_type": "execute_result"
    }
   ],
   "source": [
    "from sklearn.feature_extraction.text import TfidfVectorizer\n",
    "from sklearn.cluster import KMeans\n",
    "\n",
    "# Step 1: Preprocessing - Convert messages into numerical representation using TF-IDF\n",
    "vectorizer = TfidfVectorizer(stop_words='english', max_features=500)  # Limit features to top 500 words for simplicity\n",
    "X = vectorizer.fit_transform(parsed_data[\"Message\"])\n",
    "\n",
    "# Step 2: Define a function to perform clustering and analyze results\n",
    "def perform_clustering(X, n_clusters):\n",
    "    kmeans = KMeans(n_clusters=n_clusters, random_state=42)\n",
    "    clusters = kmeans.fit_predict(X)\n",
    "    \n",
    "    # Top keywords per cluster\n",
    "    top_keywords = []\n",
    "    order_centroids = kmeans.cluster_centers_.argsort()[:, ::-1]\n",
    "    terms = vectorizer.get_feature_names_out()\n",
    "    for i in range(n_clusters):\n",
    "        top_keywords.append([terms[ind] for ind in order_centroids[i, :3]])  # Top 3 words per cluster\n",
    "    \n",
    "    return clusters, top_keywords\n",
    "\n",
    "# Perform clustering for 3, 4, and 5 clusters\n",
    "results = {}\n",
    "for n in [3, 4, 5]:\n",
    "    clusters, keywords = perform_clustering(X, n_clusters=n)\n",
    "    parsed_data[f\"Cluster_{n}\"] = clusters  # Add cluster labels to the dataframe\n",
    "    results[n] = keywords\n",
    "\n",
    "# Display the top keywords for each clustering result\n",
    "results\n"
   ]
  },
  {
   "cell_type": "code",
   "execution_count": null,
   "id": "dde4c85b-9370-4400-826d-c66e4b318f50",
   "metadata": {},
   "outputs": [],
   "source": []
  }
 ],
 "metadata": {
  "kernelspec": {
   "display_name": "Python 3 (ipykernel)",
   "language": "python",
   "name": "python3"
  },
  "language_info": {
   "codemirror_mode": {
    "name": "ipython",
    "version": 3
   },
   "file_extension": ".py",
   "mimetype": "text/x-python",
   "name": "python",
   "nbconvert_exporter": "python",
   "pygments_lexer": "ipython3",
   "version": "3.12.6"
  }
 },
 "nbformat": 4,
 "nbformat_minor": 5
}
